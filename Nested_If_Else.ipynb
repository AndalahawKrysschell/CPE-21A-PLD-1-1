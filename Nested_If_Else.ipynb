{
  "nbformat": 4,
  "nbformat_minor": 0,
  "metadata": {
    "colab": {
      "provenance": [],
      "authorship_tag": "ABX9TyMHjYm3UO3wrZOqclzqKwWU",
      "include_colab_link": true
    },
    "kernelspec": {
      "name": "python3",
      "display_name": "Python 3"
    },
    "language_info": {
      "name": "python"
    }
  },
  "cells": [
    {
      "cell_type": "markdown",
      "metadata": {
        "id": "view-in-github",
        "colab_type": "text"
      },
      "source": [
        "<a href=\"https://colab.research.google.com/github/AndalahawKrysschell/CPEN-21A-PLD-1-1/blob/main/Nested_If_Else.ipynb\" target=\"_parent\"><img src=\"https://colab.research.google.com/assets/colab-badge.svg\" alt=\"Open In Colab\"/></a>"
      ]
    },
    {
      "cell_type": "markdown",
      "source": [
        "##Example 1"
      ],
      "metadata": {
        "id": "rXOTBH79kbqm"
      }
    },
    {
      "cell_type": "code",
      "source": [
        "age=int(input(\"Enter age:\"))\n",
        "if age>=18:\n",
        "  print(\"Qualified to Vote!\") \n",
        "elif age>=17:\n",
        "  print(\"Not Qualified to Vote!\")\n",
        "else: \n",
        "  print(\"Not eligible to vote; too young!\")"
      ],
      "metadata": {
        "id": "51SphuLBwMXE",
        "colab": {
          "base_uri": "https://localhost:8080/"
        },
        "outputId": "6a978fc2-9c3c-45ea-c630-a26f3598d725"
      },
      "execution_count": 63,
      "outputs": [
        {
          "output_type": "stream",
          "name": "stdout",
          "text": [
            "Enter age:19\n",
            "Qualified to Vote!\n"
          ]
        }
      ]
    },
    {
      "cell_type": "markdown",
      "source": [
        "##Example 2"
      ],
      "metadata": {
        "id": "xfDTMnosntPp"
      }
    },
    {
      "cell_type": "code",
      "source": [
        "num = int(input(\"Enter a number:\"))\n",
        "if num > 0: \n",
        "  print(num,\"is positive\")\n",
        "elif num==0:\n",
        "  print(num,\"is zero\")\n",
        "else:\n",
        "  print(num,\"is negative\") "
      ],
      "metadata": {
        "colab": {
          "base_uri": "https://localhost:8080/"
        },
        "id": "uvhAvgPxOMjz",
        "outputId": "7866be51-3587-49a7-9ee2-de64911d0834"
      },
      "execution_count": 70,
      "outputs": [
        {
          "output_type": "stream",
          "name": "stdout",
          "text": [
            "Enter a number:22\n",
            "22 is positive\n"
          ]
        }
      ]
    },
    {
      "cell_type": "markdown",
      "source": [
        "##Example 3"
      ],
      "metadata": {
        "id": "eZ-xZpswPX9i"
      }
    },
    {
      "cell_type": "code",
      "source": [
        "average = int(input(\"Enter the average:\"))\n",
        "if average >= 75:\n",
        "  print (\"Congratulations! You have passed\")\n",
        "elif average==74:\n",
        "  print(\"Remedial\")\n",
        "elif average>74:\n",
        "  print(\"Failed\")       \n",
        "else:\n",
        "  print(\"You have failed; see you on the next grading\")"
      ],
      "metadata": {
        "colab": {
          "base_uri": "https://localhost:8080/"
        },
        "id": "54deInD3M1po",
        "outputId": "c0279aa1-fb56-427a-bfb6-173d300c8dfc"
      },
      "execution_count": 72,
      "outputs": [
        {
          "output_type": "stream",
          "name": "stdout",
          "text": [
            "Enter the average:75\n",
            "Congratulations! You have passed\n"
          ]
        }
      ]
    }
  ]
}