{
  "nbformat": 4,
  "nbformat_minor": 0,
  "metadata": {
    "colab": {
      "provenance": [],
      "authorship_tag": "ABX9TyPspN1SL2pRF6mCQB85qkbk",
      "include_colab_link": true
    },
    "kernelspec": {
      "name": "python3",
      "display_name": "Python 3"
    },
    "language_info": {
      "name": "python"
    }
  },
  "cells": [
    {
      "cell_type": "markdown",
      "metadata": {
        "id": "view-in-github",
        "colab_type": "text"
      },
      "source": [
        "<a href=\"https://colab.research.google.com/github/AndalahawKrysschell/CPEN-21A-PLD-1-1/blob/main/Python_as_Function.ipynb\" target=\"_parent\"><img src=\"https://colab.research.google.com/assets/colab-badge.svg\" alt=\"Open In Colab\"/></a>"
      ]
    },
    {
      "cell_type": "code",
      "source": [
        "#Function Calls\n",
        "\n",
        "abs(-4.5)\n",
        "\n"
      ],
      "metadata": {
        "colab": {
          "base_uri": "https://localhost:8080/"
        },
        "id": "BmKAKVy7i5JQ",
        "outputId": "844bbcc7-2c05-4338-d402-017511ec77cb"
      },
      "execution_count": 1,
      "outputs": [
        {
          "output_type": "execute_result",
          "data": {
            "text/plain": [
              "4.5"
            ]
          },
          "metadata": {},
          "execution_count": 1
        }
      ]
    },
    {
      "cell_type": "code",
      "source": [
        "#Function Calls other Function\n",
        "\n",
        "pow(abs(-2), round(4.5))   #pow(2,4)\n",
        "\n"
      ],
      "metadata": {
        "colab": {
          "base_uri": "https://localhost:8080/"
        },
        "id": "tKKPe6D2jKlN",
        "outputId": "2c1ede58-409c-4f2d-cb86-02d2f5143e66"
      },
      "execution_count": 2,
      "outputs": [
        {
          "output_type": "execute_result",
          "data": {
            "text/plain": [
              "16"
            ]
          },
          "metadata": {},
          "execution_count": 2
        }
      ]
    },
    {
      "cell_type": "code",
      "source": [
        "#Type Code Function\n",
        "\n",
        "int(4.5)\n",
        "float(4)\n",
        "\n"
      ],
      "metadata": {
        "colab": {
          "base_uri": "https://localhost:8080/"
        },
        "id": "XLzAIIVDj9Su",
        "outputId": "b2741ac1-eb9c-4d99-a5f7-4d596307a408"
      },
      "execution_count": 3,
      "outputs": [
        {
          "output_type": "execute_result",
          "data": {
            "text/plain": [
              "4.0"
            ]
          },
          "metadata": {},
          "execution_count": 3
        }
      ]
    },
    {
      "cell_type": "code",
      "source": [
        "##Defining own Function\n",
        "\n",
        "def convert_to_celsius(fahrenheit):\n",
        "    celsius = (fahrenheit - 32)*(5/9)\n",
        "    return celsius\n",
        "\n",
        "fahrenheit = float(input(\"Enter a number in fahrenheit:\"))\n",
        "\n",
        "f = convert_to_celsius(fahrenheit)\n",
        "print(round(f,2))"
      ],
      "metadata": {
        "colab": {
          "base_uri": "https://localhost:8080/"
        },
        "id": "TiutDJ47x5hX",
        "outputId": "67c7c00a-fc96-4c3c-e37a-13a6f5c15391"
      },
      "execution_count": 8,
      "outputs": [
        {
          "output_type": "stream",
          "name": "stdout",
          "text": [
            "Enter a number in fahrenheit:100\n",
            "37.78\n"
          ]
        }
      ]
    }
  ]
}