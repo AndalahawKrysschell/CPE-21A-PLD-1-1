{
  "nbformat": 4,
  "nbformat_minor": 0,
  "metadata": {
    "colab": {
      "provenance": [],
      "authorship_tag": "ABX9TyOq4ygXCLEQqH1BwJwQBDDl",
      "include_colab_link": true
    },
    "kernelspec": {
      "name": "python3",
      "display_name": "Python 3"
    },
    "language_info": {
      "name": "python"
    }
  },
  "cells": [
    {
      "cell_type": "markdown",
      "metadata": {
        "id": "view-in-github",
        "colab_type": "text"
      },
      "source": [
        "<a href=\"https://colab.research.google.com/github/AndalahawKrysschell/CPEN-21A-PLD-1-1/blob/main/Laboratory_No_1.ipynb\" target=\"_parent\"><img src=\"https://colab.research.google.com/assets/colab-badge.svg\" alt=\"Open In Colab\"/></a>"
      ]
    },
    {
      "cell_type": "code",
      "execution_count": 7,
      "metadata": {
        "colab": {
          "base_uri": "https://localhost:8080/"
        },
        "id": "1EynGad1Lzo8",
        "outputId": "5a870934-b857-48b1-93b2-721937d1df82"
      },
      "outputs": [
        {
          "output_type": "stream",
          "name": "stdout",
          "text": [
            "sum: 210\n",
            "average: 10.5\n"
          ]
        }
      ],
      "source": [
        "\n",
        "#Problem 1\n",
        "n = 20\n",
        "totalnumbers = n\n",
        "\n",
        "sum = 0 \n",
        "average = 0\n",
        "\n",
        "while n >= 0:\n",
        "    sum += n\n",
        "    n -= 1\n",
        "\n",
        "print('sum:', sum)\n",
        "\n",
        "average = sum/totalnumbers\n",
        "\n",
        "print('average:', average)\n"
      ]
    },
    {
      "cell_type": "code",
      "source": [
        "#Problem 2\n",
        "\n",
        "class Student:\n",
        "\n",
        "  def __init__(self, name, studentnumber, age, school, course):\n",
        "    self.name = name\n",
        "    self.studentnumber = studentnumber\n",
        "    self.age = age\n",
        "    self.school = school\n",
        "    self.course = course\n",
        "\n",
        "self = Student(\"Krysschell Anne Junio Andalahaw\", 202202416, 19, \"Cavite State University\", \"Computer Engineering\") \n",
        "print(\"My name is\", self.name)\n",
        "print(\"My student number is\", self.studentnumber)\n",
        "print(\"My age is\", self.age)\n",
        "print(\"The name of my school is\", self.school )\n",
        "print(\"My course is\", self.course)\n"
      ],
      "metadata": {
        "colab": {
          "base_uri": "https://localhost:8080/"
        },
        "id": "Lr-QSdjyTeFS",
        "outputId": "7d413a83-60f6-4740-bcb2-cdf4f67ab54d"
      },
      "execution_count": 5,
      "outputs": [
        {
          "output_type": "stream",
          "name": "stdout",
          "text": [
            "My name is Krysschell Anne Junio Andalahaw\n",
            "My student number is 202202416\n",
            "My age is 19\n",
            "The name of my school is Cavite State University\n",
            "My course is Computer Engineering\n"
          ]
        }
      ]
    }
  ]
}