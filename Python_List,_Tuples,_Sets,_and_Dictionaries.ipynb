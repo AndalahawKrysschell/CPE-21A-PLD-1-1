{
  "nbformat": 4,
  "nbformat_minor": 0,
  "metadata": {
    "colab": {
      "provenance": [],
      "authorship_tag": "ABX9TyMgBkhCwLp8l//Ks8ZTzNOz",
      "include_colab_link": true
    },
    "kernelspec": {
      "name": "python3",
      "display_name": "Python 3"
    },
    "language_info": {
      "name": "python"
    }
  },
  "cells": [
    {
      "cell_type": "markdown",
      "metadata": {
        "id": "view-in-github",
        "colab_type": "text"
      },
      "source": [
        "<a href=\"https://colab.research.google.com/github/AndalahawKrysschell/CPEN-21A-PLD-1-1/blob/main/Python_List%2C_Tuples%2C_Sets%2C_and_Dictionaries.ipynb\" target=\"_parent\"><img src=\"https://colab.research.google.com/assets/colab-badge.svg\" alt=\"Open In Colab\"/></a>"
      ]
    },
    {
      "cell_type": "code",
      "execution_count": 2,
      "metadata": {
        "id": "eG-qXmu12kVB",
        "colab": {
          "base_uri": "https://localhost:8080/"
        },
        "outputId": "56e25008-ad93-481e-c0f6-b5d6ee79ca2a"
      },
      "outputs": [
        {
          "output_type": "stream",
          "name": "stdout",
          "text": [
            "1\n",
            "[1, 2, 'A', 'B', 'Hello', 'World']\n"
          ]
        }
      ],
      "source": [
        "#Numbers\n",
        "\n",
        "pi = 3.14159\n",
        "varList = [1,2,'A','B', \"Hello\", pi]\n",
        "print (varList[0])\n",
        "\n",
        "varList.append(\"World\")\n",
        "len(varList)\n",
        "\n",
        "varList.remove(pi)\n",
        "print(varList)"
      ]
    },
    {
      "cell_type": "code",
      "source": [
        "#Strings\n",
        "\n",
        "varString = \"Hello World!\"\n",
        "varText = 'This is a string'"
      ],
      "metadata": {
        "id": "W2sqjJE9iwjw"
      },
      "execution_count": 131,
      "outputs": []
    },
    {
      "cell_type": "code",
      "source": [
        "#Lists\n",
        "\n",
        "varList = [\"abc\", 123]"
      ],
      "metadata": {
        "id": "hBMmz9iijDhS"
      },
      "execution_count": 133,
      "outputs": []
    },
    {
      "cell_type": "code",
      "source": [
        "#Tuples\n",
        "\n",
        "varTuples = ('abc', 123, \"HELLO\")"
      ],
      "metadata": {
        "id": "x0ks_KX-jSGx"
      },
      "execution_count": 134,
      "outputs": []
    },
    {
      "cell_type": "code",
      "source": [
        "#Python Dictionaries\n",
        "\n",
        "thisdict = {\n",
        "    \"name\": \"Krysschell\",\n",
        "    \"age\": \"19\",\n",
        "    \"birthday\": \"October 7, 2003\"\n",
        "\n",
        "}\n",
        "\n",
        "print(thisdict)"
      ],
      "metadata": {
        "colab": {
          "base_uri": "https://localhost:8080/"
        },
        "id": "bqPi_NaTHEpx",
        "outputId": "8f02fc45-6180-456d-de37-e1b4e4e8659a"
      },
      "execution_count": 3,
      "outputs": [
        {
          "output_type": "stream",
          "name": "stdout",
          "text": [
            "{'name': 'Krysschell', 'age': '19', 'birthday': 'October 7, 2003'}\n"
          ]
        }
      ]
    },
    {
      "cell_type": "code",
      "source": [
        "varList = [0,1,2,3,4]\n",
        "print(varList)                                          #0            \n",
        "varList = range(0,5,4)                                  #0+4=4\n",
        "print([var for var in varList])                        #4+4=8\n"
      ],
      "metadata": {
        "colab": {
          "base_uri": "https://localhost:8080/"
        },
        "id": "-zfGd0BIH2r3",
        "outputId": "94eb89ae-d1bb-4863-8e51-983f06ca1353"
      },
      "execution_count": 18,
      "outputs": [
        {
          "output_type": "stream",
          "name": "stdout",
          "text": [
            "[0, 1, 2, 3, 4]\n",
            "[0, 4]\n"
          ]
        }
      ]
    },
    {
      "cell_type": "code",
      "source": [
        "#Arithmetic\n",
        "\n",
        " #Addition\n",
        "a = 5 + 3\n",
        "print(5 + 3)\n"
      ],
      "metadata": {
        "colab": {
          "base_uri": "https://localhost:8080/"
        },
        "id": "nRjC6orRKW4u",
        "outputId": "31085e77-331a-4cc5-8aae-fc3ce62b41a9"
      },
      "execution_count": 125,
      "outputs": [
        {
          "output_type": "stream",
          "name": "stdout",
          "text": [
            "8\n"
          ]
        }
      ]
    },
    {
      "cell_type": "code",
      "source": [
        "#Arithmetic\n",
        "\n",
        "#Subtraction\n",
        "a = 5 - 3\n",
        "print(5 - 3)"
      ],
      "metadata": {
        "colab": {
          "base_uri": "https://localhost:8080/"
        },
        "id": "U15bCqehg9pj",
        "outputId": "df18425f-e374-4d34-d65f-63442ebe064d"
      },
      "execution_count": 117,
      "outputs": [
        {
          "output_type": "stream",
          "name": "stdout",
          "text": [
            "2\n"
          ]
        }
      ]
    },
    {
      "cell_type": "code",
      "source": [
        "#Arithmetic\n",
        "\n",
        "#Multiplication\n",
        "a = 5 * 3\n",
        "print(5 * 3)"
      ],
      "metadata": {
        "colab": {
          "base_uri": "https://localhost:8080/"
        },
        "id": "vGNoX60OhExn",
        "outputId": "d98ea5a3-9ecc-4325-9170-4cb5d9d425ae"
      },
      "execution_count": 118,
      "outputs": [
        {
          "output_type": "stream",
          "name": "stdout",
          "text": [
            "15\n"
          ]
        }
      ]
    },
    {
      "cell_type": "code",
      "source": [
        "#Arithmetic\n",
        "\n",
        "#Exponent\n",
        "a = 5 ** 3\n",
        "print(5 ** 3)"
      ],
      "metadata": {
        "colab": {
          "base_uri": "https://localhost:8080/"
        },
        "id": "N39NFNLBhFaf",
        "outputId": "28e3d7eb-0e92-47f1-d500-d84665f6d1aa"
      },
      "execution_count": 119,
      "outputs": [
        {
          "output_type": "stream",
          "name": "stdout",
          "text": [
            "125\n"
          ]
        }
      ]
    },
    {
      "cell_type": "code",
      "source": [
        "#Arithmetic\n",
        "\n",
        "#Division\n",
        "a = 5 / 3\n",
        "print(5 / 3)\n",
        "\n",
        "a = 5 % 3\n",
        "print(5 % 3)\n",
        "\n",
        "a = 5 // 3\n",
        "print(5 // 3)"
      ],
      "metadata": {
        "colab": {
          "base_uri": "https://localhost:8080/"
        },
        "id": "JVhHxhIChF2C",
        "outputId": "97b39482-760f-4fd6-b2e4-7a481fdda3d9"
      },
      "execution_count": 121,
      "outputs": [
        {
          "output_type": "stream",
          "name": "stdout",
          "text": [
            "1.6666666666666667\n",
            "2\n",
            "1\n"
          ]
        }
      ]
    },
    {
      "cell_type": "code",
      "source": [
        "#Arithmetic\n",
        "\n",
        "#Increment/Decrement\n",
        "a = 5\n",
        "a += 1\n",
        "print(a)"
      ],
      "metadata": {
        "colab": {
          "base_uri": "https://localhost:8080/"
        },
        "id": "7Ol6vuFKhGTI",
        "outputId": "3c08b5af-9fb8-4a9a-d548-47bbd6d042c9"
      },
      "execution_count": 122,
      "outputs": [
        {
          "output_type": "stream",
          "name": "stdout",
          "text": [
            "6\n"
          ]
        }
      ]
    },
    {
      "cell_type": "code",
      "source": [
        "#Arithmetic\n",
        "\n",
        "#Decrement\n",
        "a = 5\n",
        "a -= 1\n",
        "print(a)"
      ],
      "metadata": {
        "colab": {
          "base_uri": "https://localhost:8080/"
        },
        "id": "Sj-Jy_zThGuB",
        "outputId": "4f84a8dd-4c61-48b0-fd38-5ad68d562301"
      },
      "execution_count": 123,
      "outputs": [
        {
          "output_type": "stream",
          "name": "stdout",
          "text": [
            "4\n"
          ]
        }
      ]
    },
    {
      "cell_type": "code",
      "source": [
        "#Arithmetic\n",
        "\n",
        "#String Concatenation\n",
        "a = \"Hello\" + \"World!\"\n",
        "print(\"Hello\" \" \" + \"World!\")\n",
        "\n"
      ],
      "metadata": {
        "colab": {
          "base_uri": "https://localhost:8080/"
        },
        "id": "aA4mkxRqhIwc",
        "outputId": "ae2ac3c7-8b88-4bb6-b768-879cd7b17591"
      },
      "execution_count": 124,
      "outputs": [
        {
          "output_type": "stream",
          "name": "stdout",
          "text": [
            "Hello World!\n"
          ]
        }
      ]
    },
    {
      "cell_type": "code",
      "source": [
        "#Arithmetic\n",
        "\n",
        "#Complex Expression\n",
        "a = 3 + 5 -6 * 2 / 4\n",
        "print(a)"
      ],
      "metadata": {
        "colab": {
          "base_uri": "https://localhost:8080/"
        },
        "id": "CbxOCFOVhJNw",
        "outputId": "d53e0f34-b30f-4163-fbdb-297f7df37736"
      },
      "execution_count": 126,
      "outputs": [
        {
          "output_type": "stream",
          "name": "stdout",
          "text": [
            "5.0\n"
          ]
        }
      ]
    },
    {
      "cell_type": "code",
      "source": [
        "#Conditional Statements\n",
        "\n",
        "#Boolean Conditions\n",
        "\n",
        "x = True\n",
        "\n",
        "if x: \n",
        "  print(\"var x is true\")\n",
        "\n",
        "else:\n",
        "  print(\"var x is false\")\n",
        "\n"
      ],
      "metadata": {
        "colab": {
          "base_uri": "https://localhost:8080/"
        },
        "id": "wEjCNmKHPoDx",
        "outputId": "66382db0-6075-45c8-e754-9e1b20e0ec36"
      },
      "execution_count": 129,
      "outputs": [
        {
          "output_type": "stream",
          "name": "stdout",
          "text": [
            "var x is true\n"
          ]
        }
      ]
    },
    {
      "cell_type": "code",
      "source": [
        "#Conditional Statements\n",
        "\n",
        "#String Conditions\n",
        "\n",
        "x = \"Hello World!\"\n",
        "\n",
        "if x == 'Hello World!':\n",
        "  print(\"var x is Hello World!\")\n",
        "\n",
        "else:\n",
        "  print(\"var x is not Hello World!\")"
      ],
      "metadata": {
        "colab": {
          "base_uri": "https://localhost:8080/"
        },
        "id": "mb7GjbvAh6TM",
        "outputId": "15734c8e-0240-4b57-d6f5-0c26de686e8d"
      },
      "execution_count": 128,
      "outputs": [
        {
          "output_type": "stream",
          "name": "stdout",
          "text": [
            "var x is Hello World!\n"
          ]
        }
      ]
    },
    {
      "cell_type": "code",
      "source": [
        "#Conditional Statements\n",
        "\n",
        "#Numerical Conditions\n",
        "\n",
        "x = 10\n",
        "\n",
        "if x == '10':\n",
        "  print(\"var x is a string\")\n",
        "\n",
        "elif x == 10:\n",
        "  print(\"var x is an integer\")\n",
        "\n",
        "else:\n",
        "   print(\"var x is none of the above\")"
      ],
      "metadata": {
        "colab": {
          "base_uri": "https://localhost:8080/"
        },
        "id": "YFcVZteVh80_",
        "outputId": "4ee529f3-680d-48b5-db6c-4a39f406e701"
      },
      "execution_count": 127,
      "outputs": [
        {
          "output_type": "stream",
          "name": "stdout",
          "text": [
            "var x is an integer\n"
          ]
        }
      ]
    },
    {
      "cell_type": "code",
      "source": [
        "#Loops\n",
        "\n",
        "#For Loops\n",
        "\n",
        "for var in range(0,5,2):\n",
        "  print(var)"
      ],
      "metadata": {
        "colab": {
          "base_uri": "https://localhost:8080/"
        },
        "id": "jmD7MZzkTMnU",
        "outputId": "9742e0dd-ef37-442d-b338-a791c31937ba"
      },
      "execution_count": 44,
      "outputs": [
        {
          "output_type": "stream",
          "name": "stdout",
          "text": [
            "0\n",
            "2\n",
            "4\n"
          ]
        }
      ]
    },
    {
      "cell_type": "code",
      "source": [
        "#Loops\n",
        "\n",
        "#While Loops\n",
        "\n",
        "var = 0 \n",
        "while var < 5:\n",
        "  print(var)\n",
        "  var += 2"
      ],
      "metadata": {
        "colab": {
          "base_uri": "https://localhost:8080/"
        },
        "id": "HC1rY5jhThMV",
        "outputId": "8cac00de-385c-4215-ceb6-45668eda003a"
      },
      "execution_count": 47,
      "outputs": [
        {
          "output_type": "stream",
          "name": "stdout",
          "text": [
            "0\n",
            "2\n",
            "4\n"
          ]
        }
      ]
    },
    {
      "cell_type": "code",
      "source": [
        "#Loops\n",
        "\n",
        "#Nested Loops\n",
        "\n",
        "\n",
        "x = 0\n",
        "while x < 5:\n",
        "   for y in range (0, x):\n",
        "      print(y, end='')\n",
        "\n",
        "   x += 1\n",
        "   print()"
      ],
      "metadata": {
        "colab": {
          "base_uri": "https://localhost:8080/"
        },
        "id": "eOKXkhlHT3rS",
        "outputId": "2477db79-b1af-45bd-c263-e6f5036be6b7"
      },
      "execution_count": 116,
      "outputs": [
        {
          "output_type": "stream",
          "name": "stdout",
          "text": [
            "\n",
            "0\n",
            "01\n",
            "012\n",
            "0123\n"
          ]
        }
      ]
    },
    {
      "cell_type": "code",
      "source": [
        "#Functions\n",
        "\n",
        "def remainder(n, m):\n",
        "  while True:\n",
        "    if n - m < 0:\n",
        "     return n\n",
        "\n",
        "    else:\n",
        "      n = n - m\n",
        "\n",
        "remainder(10,4)"
      ],
      "metadata": {
        "colab": {
          "base_uri": "https://localhost:8080/"
        },
        "id": "hiX61FDRWjDA",
        "outputId": "2cbfd490-b828-450a-bd78-80f5d088e1ee"
      },
      "execution_count": 74,
      "outputs": [
        {
          "output_type": "execute_result",
          "data": {
            "text/plain": [
              "2"
            ]
          },
          "metadata": {},
          "execution_count": 74
        }
      ]
    },
    {
      "cell_type": "code",
      "source": [
        "#Lists\n",
        "\n",
        "pi = 3.14159\n",
        "\n",
        "varList = [1, 2, 'A', 'B', 'Hello!', pi]\n",
        "\n",
        "print (varList[0])\n",
        "\n",
        "print(varList[4])\n",
        "\n",
        "varList.append('World!') \n",
        "print (varList[6])\n",
        "\n",
        "len(varList)\n",
        "\n",
        "print(varList[5])\n",
        "\n",
        "varList.remove(pi) \n",
        "print(varList[5])"
      ],
      "metadata": {
        "colab": {
          "base_uri": "https://localhost:8080/"
        },
        "id": "8WeUtInaYw4_",
        "outputId": "69930059-d9db-436c-b954-f5ca59a91f46"
      },
      "execution_count": 88,
      "outputs": [
        {
          "output_type": "stream",
          "name": "stdout",
          "text": [
            "1\n",
            "Hello!\n",
            "World!\n",
            "3.14159\n",
            "World!\n"
          ]
        }
      ]
    },
    {
      "cell_type": "code",
      "source": [
        "#Dictionaries\n",
        "\n",
        "var = \"Hello World!\" \n",
        "varDict = {'first': 123, 2: 'abc', \n",
        "           '3' :  var, 4 : ['lista', 'listb']}\n",
        "print(varDict['first'])\n",
        "\n",
        "print(varDict[2])\n",
        "\n",
        "print(varDict['3'])\n",
        "\n",
        "print(varDict[4])\n",
        "\n",
        "print(varDict[4][1])\n",
        "\n",
        "len(varDict)"
      ],
      "metadata": {
        "colab": {
          "base_uri": "https://localhost:8080/"
        },
        "id": "Je2-ZfC9ayTI",
        "outputId": "807b7614-2b47-43ee-ccc0-5c7613e01e29"
      },
      "execution_count": 95,
      "outputs": [
        {
          "output_type": "stream",
          "name": "stdout",
          "text": [
            "123\n",
            "abc\n",
            "Hello World!\n",
            "['lista', 'listb']\n",
            "listb\n"
          ]
        },
        {
          "output_type": "execute_result",
          "data": {
            "text/plain": [
              "4"
            ]
          },
          "metadata": {},
          "execution_count": 95
        }
      ]
    },
    {
      "cell_type": "code",
      "source": [
        "#List Generators and Comprehension\n",
        "\n",
        "def gen_num_up_to(n):\n",
        "  num = 0\n",
        "  while num < n:\n",
        "        yield num\n",
        "        num += 1"
      ],
      "metadata": {
        "id": "vOWrTLN_dNNw"
      },
      "execution_count": 115,
      "outputs": []
    },
    {
      "cell_type": "code",
      "source": [
        "#List Generators and Comprehension\n",
        "\n",
        "gen_num_up_to(5)"
      ],
      "metadata": {
        "colab": {
          "base_uri": "https://localhost:8080/"
        },
        "id": "amSV2SueeOBb",
        "outputId": "865c541f-9cc4-4eb4-905d-1c36688f0014"
      },
      "execution_count": 101,
      "outputs": [
        {
          "output_type": "execute_result",
          "data": {
            "text/plain": [
              "<generator object gen_num_up_to at 0x7eff33306c10>"
            ]
          },
          "metadata": {},
          "execution_count": 101
        }
      ]
    },
    {
      "cell_type": "code",
      "source": [
        "#List Generators and Comprehension\n",
        "\n",
        "varList = gen_num_up_to(5)\n",
        "print([var for var in varList])"
      ],
      "metadata": {
        "colab": {
          "base_uri": "https://localhost:8080/"
        },
        "id": "B2iDaLKpel2f",
        "outputId": "ff7a89c5-f98c-4523-de2d-4ecef0cf6b4e"
      },
      "execution_count": 103,
      "outputs": [
        {
          "output_type": "stream",
          "name": "stdout",
          "text": [
            "[0, 1, 2, 3, 4]\n"
          ]
        }
      ]
    },
    {
      "cell_type": "code",
      "source": [
        "#List Generators and Comprehension\n",
        "def gen_num_up_to(n):\n",
        "  num = 0\n",
        "  while num < n:\n",
        "        yield num\n",
        "        num += 2\n",
        "\n",
        "varList = gen_num_up_to(5)\n",
        "print([var for var in varList])\n"
      ],
      "metadata": {
        "colab": {
          "base_uri": "https://localhost:8080/"
        },
        "id": "QcJLHQf3e9Wi",
        "outputId": "3f5dcdc8-8626-46e2-f64e-2edbbb4f6a47"
      },
      "execution_count": 104,
      "outputs": [
        {
          "output_type": "stream",
          "name": "stdout",
          "text": [
            "[0, 2, 4]\n"
          ]
        }
      ]
    },
    {
      "cell_type": "code",
      "source": [
        "#List Generators and Comprehension\n",
        "\n",
        "varList = range(0,5,2)\n",
        "print([var for var in varList])"
      ],
      "metadata": {
        "colab": {
          "base_uri": "https://localhost:8080/"
        },
        "id": "Y2_4Fco_fNu0",
        "outputId": "b89aa9cb-78a1-4b04-8b78-a67ba17a0d65"
      },
      "execution_count": 105,
      "outputs": [
        {
          "output_type": "stream",
          "name": "stdout",
          "text": [
            "[0, 2, 4]\n"
          ]
        }
      ]
    },
    {
      "cell_type": "code",
      "source": [
        "#Slicing\n",
        "\n",
        "varList = [1,2,3,4,5,6,7,8,9,10]\n",
        "print(varList[:5])"
      ],
      "metadata": {
        "colab": {
          "base_uri": "https://localhost:8080/"
        },
        "id": "6cvCZeHRfjnx",
        "outputId": "d7f8fe32-47fa-4caf-8b22-a2f72cf9b841"
      },
      "execution_count": 106,
      "outputs": [
        {
          "output_type": "stream",
          "name": "stdout",
          "text": [
            "[1, 2, 3, 4, 5]\n"
          ]
        }
      ]
    },
    {
      "cell_type": "code",
      "source": [
        "#Slicing\n",
        "\n",
        "print(varList[5:])"
      ],
      "metadata": {
        "colab": {
          "base_uri": "https://localhost:8080/"
        },
        "id": "ZhmEiJb_f0iq",
        "outputId": "39039638-1ebf-4aa6-b57b-b774aeb9fff7"
      },
      "execution_count": 108,
      "outputs": [
        {
          "output_type": "stream",
          "name": "stdout",
          "text": [
            "[6, 7, 8, 9, 10]\n"
          ]
        }
      ]
    },
    {
      "cell_type": "code",
      "source": [
        "#Slicing\n",
        "\n",
        "print(varList[:-2])"
      ],
      "metadata": {
        "colab": {
          "base_uri": "https://localhost:8080/"
        },
        "id": "jXnwHOsdf6Mp",
        "outputId": "46f2ae2b-67a2-45a4-eb22-b531aaf25987"
      },
      "execution_count": 109,
      "outputs": [
        {
          "output_type": "stream",
          "name": "stdout",
          "text": [
            "[1, 2, 3, 4, 5, 6, 7, 8]\n"
          ]
        }
      ]
    },
    {
      "cell_type": "code",
      "source": [
        "#Slicing\n",
        "\n",
        "print(varList[-2:])"
      ],
      "metadata": {
        "colab": {
          "base_uri": "https://localhost:8080/"
        },
        "id": "RTB6fR-agGtx",
        "outputId": "12352264-5fd3-4fdd-8c7e-04516378f57f"
      },
      "execution_count": 110,
      "outputs": [
        {
          "output_type": "stream",
          "name": "stdout",
          "text": [
            "[9, 10]\n"
          ]
        }
      ]
    },
    {
      "cell_type": "code",
      "source": [
        "#Slicing\n",
        "\n",
        "print(varList[2:-2])"
      ],
      "metadata": {
        "colab": {
          "base_uri": "https://localhost:8080/"
        },
        "id": "vd0olFAHgOXl",
        "outputId": "978d2648-ca9f-4bd6-8a18-d3f1c9e4d579"
      },
      "execution_count": 111,
      "outputs": [
        {
          "output_type": "stream",
          "name": "stdout",
          "text": [
            "[3, 4, 5, 6, 7, 8]\n"
          ]
        }
      ]
    },
    {
      "cell_type": "code",
      "source": [
        "#Slicing\n",
        "\n",
        "print(varList[2:8:2])"
      ],
      "metadata": {
        "colab": {
          "base_uri": "https://localhost:8080/"
        },
        "id": "YUdjqBr6gSaw",
        "outputId": "b67ec16d-62e5-411e-afb2-ce4bb7f12d4e"
      },
      "execution_count": 112,
      "outputs": [
        {
          "output_type": "stream",
          "name": "stdout",
          "text": [
            "[3, 5, 7]\n"
          ]
        }
      ]
    }
  ]
}