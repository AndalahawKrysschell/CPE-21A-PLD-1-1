{
  "nbformat": 4,
  "nbformat_minor": 0,
  "metadata": {
    "colab": {
      "provenance": [],
      "authorship_tag": "ABX9TyN7ml57mM7tZ0diWqlxxZXl",
      "include_colab_link": true
    },
    "kernelspec": {
      "name": "python3",
      "display_name": "Python 3"
    },
    "language_info": {
      "name": "python"
    }
  },
  "cells": [
    {
      "cell_type": "markdown",
      "metadata": {
        "id": "view-in-github",
        "colab_type": "text"
      },
      "source": [
        "<a href=\"https://colab.research.google.com/github/AndalahawKrysschell/CPEN-21A-PLD-1-1/blob/main/Object_and_Class.ipynb\" target=\"_parent\"><img src=\"https://colab.research.google.com/assets/colab-badge.svg\" alt=\"Open In Colab\"/></a>"
      ]
    },
    {
      "cell_type": "code",
      "execution_count": 1,
      "metadata": {
        "colab": {
          "base_uri": "https://localhost:8080/"
        },
        "id": "XJXnhkAY4Wjl",
        "outputId": "a2ee33a4-1f91-411e-a140-4b6a9d59fda2"
      },
      "outputs": [
        {
          "output_type": "stream",
          "name": "stdout",
          "text": [
            "My name is Krysschell\n",
            "My age is 19\n",
            "Hanna\n",
            "18\n"
          ]
        }
      ],
      "source": [
        "#Creating class and object\n",
        "\n",
        "class Person:                                    #creating class named as Person\n",
        "  def __init__(self,name,age):\n",
        "    self.name = name\n",
        "    self.age = age\n",
        "\n",
        "person = Person(\"Krysschell\",19)               #creating object name Person\n",
        "print(\"My name is\",person.name)\n",
        "print(\"My age is\",person.age)\n",
        "\n",
        "class Student(Person):\n",
        "  pass\n",
        "\n",
        "person2 = Student(\"Hanna\",18)\n",
        "print(person2.name)\n",
        "print(person2.age)"
      ]
    }
  ]
}