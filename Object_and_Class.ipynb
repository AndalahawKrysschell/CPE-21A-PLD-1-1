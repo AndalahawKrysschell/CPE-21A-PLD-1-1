{
  "nbformat": 4,
  "nbformat_minor": 0,
  "metadata": {
    "colab": {
      "provenance": [],
      "authorship_tag": "ABX9TyO9Bva2CJ5H6ZQf9fmbztEY",
      "include_colab_link": true
    },
    "kernelspec": {
      "name": "python3",
      "display_name": "Python 3"
    },
    "language_info": {
      "name": "python"
    }
  },
  "cells": [
    {
      "cell_type": "markdown",
      "metadata": {
        "id": "view-in-github",
        "colab_type": "text"
      },
      "source": [
        "<a href=\"https://colab.research.google.com/github/AndalahawKrysschell/CPEN-21A-PLD-1-1/blob/main/Object_and_Class.ipynb\" target=\"_parent\"><img src=\"https://colab.research.google.com/assets/colab-badge.svg\" alt=\"Open In Colab\"/></a>"
      ]
    },
    {
      "cell_type": "code",
      "execution_count": null,
      "metadata": {
        "colab": {
          "base_uri": "https://localhost:8080/"
        },
        "id": "XJXnhkAY4Wjl",
        "outputId": "a2ee33a4-1f91-411e-a140-4b6a9d59fda2"
      },
      "outputs": [
        {
          "output_type": "stream",
          "name": "stdout",
          "text": [
            "My name is Krysschell\n",
            "My age is 19\n",
            "Hanna\n",
            "18\n"
          ]
        }
      ],
      "source": [
        "#Creating class and object\n",
        "\n",
        "class Person:                                    #creating class named as Person\n",
        "  def __init__(self,name,age):\n",
        "    self.name = name\n",
        "    self.age = age\n",
        "\n",
        "person = Person(\"Krysschell\",19)               #creating object name Person\n",
        "print(\"My name is\",person.name)\n",
        "print(\"My age is\",person.age)\n",
        "\n",
        "class Student(Person):\n",
        "  pass\n",
        "\n",
        "person2 = Student(\"Hanna\",18)\n",
        "print(person2.name)\n",
        "print(person2.age)"
      ]
    },
    {
      "cell_type": "code",
      "source": [
        "#Application 1\n",
        "\n",
        "\n",
        "class Shape:\n",
        "    def __init__(self, length, width):\n",
        "        self.length = length\n",
        "        self.width = width\n",
        "\n",
        "    def Area(self):\n",
        "        return self.length * self.width\n",
        "\n",
        "    def Perimeter(self):\n",
        "         return (self.length + self.width)*2\n",
        "    def display(self):\n",
        "      print(\"The area of rectangle is\", self.Area())\n",
        "      print(\"The perimeter of rectangle is\", self.Perimeter())\n",
        "\n",
        "class Rectangle(Shape):\n",
        "  pass\n",
        "\n",
        "rectangle = Shape (12, 6)\n",
        "rectangle2 = Rectangle(12,6)\n",
        "\n",
        "rectangle.display()\n",
        "rectangle2.display()"
      ],
      "metadata": {
        "colab": {
          "base_uri": "https://localhost:8080/"
        },
        "id": "OtJMDaVe5dVl",
        "outputId": "bf1fcfef-3151-43b6-ce9f-0e47184c484f"
      },
      "execution_count": 9,
      "outputs": [
        {
          "output_type": "stream",
          "name": "stdout",
          "text": [
            "The area of rectangle is 72\n",
            "The perimeter of rectangle is 36\n",
            "The area of rectangle is 72\n",
            "The perimeter of rectangle is 36\n"
          ]
        }
      ]
    }
  ]
}