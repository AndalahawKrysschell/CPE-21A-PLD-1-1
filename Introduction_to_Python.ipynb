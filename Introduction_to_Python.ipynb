{
  "nbformat": 4,
  "nbformat_minor": 0,
  "metadata": {
    "colab": {
      "provenance": [],
      "history_visible": true,
      "authorship_tag": "ABX9TyOZrqYIDQ2eQUkc3uYY9R9A",
      "include_colab_link": true
    },
    "kernelspec": {
      "name": "python3",
      "display_name": "Python 3"
    },
    "language_info": {
      "name": "python"
    }
  },
  "cells": [
    {
      "cell_type": "markdown",
      "metadata": {
        "id": "view-in-github",
        "colab_type": "text"
      },
      "source": [
        "<a href=\"https://colab.research.google.com/github/AndalahawKrysschell/CPEN-21A-PLD-1-1/blob/main/Introduction_to_Python.ipynb\" target=\"_parent\"><img src=\"https://colab.research.google.com/assets/colab-badge.svg\" alt=\"Open In Colab\"/></a>"
      ]
    },
    {
      "cell_type": "markdown",
      "source": [
        "Indentation"
      ],
      "metadata": {
        "id": "_dQCepsft9Ef"
      }
    },
    {
      "cell_type": "code",
      "source": [
        "if 22>11:\n",
        " print (\"22 is greater than 11\")  #This is a comment"
      ],
      "metadata": {
        "colab": {
          "base_uri": "https://localhost:8080/"
        },
        "id": "Kkjd_842veXP",
        "outputId": "9ed445b5-36e9-44c4-ed2f-9ee1c62a7267"
      },
      "execution_count": 8,
      "outputs": [
        {
          "output_type": "stream",
          "name": "stdout",
          "text": [
            "22 is greater than 11\n"
          ]
        }
      ]
    },
    {
      "cell_type": "markdown",
      "source": [
        "Variable Declaration"
      ],
      "metadata": {
        "id": "0y9VI-TGwrv1"
      }
    },
    {
      "cell_type": "code",
      "source": [
        "#variable with single value\n",
        "\n",
        "h=22\n",
        "r=6\n",
        "if h>r:\n",
        " print(\"h is greater than r\")\n",
        "\n",
        "else:\n",
        " print(\"h is greater than r\")\n",
        "\n",
        " #variable with multiple value\n",
        " h,r= 22,6\n",
        "print(\"the value of h is:\",h)\n",
        "print(\"the value of r is:\",r)\n",
        "\n",
        "#variable with a single value\n",
        "\n",
        "l = m = n = \"Shark\"\n",
        "print (l)\n",
        "print(m)\n",
        "print(n)"
      ],
      "metadata": {
        "colab": {
          "base_uri": "https://localhost:8080/"
        },
        "id": "QKbv1kYiw01N",
        "outputId": "82e9b8be-6e8d-41b9-eb68-5850539a1457"
      },
      "execution_count": 40,
      "outputs": [
        {
          "output_type": "stream",
          "name": "stdout",
          "text": [
            "h is greater than r\n",
            "the value of h is: 22\n",
            "the value of r is: 6\n",
            "Shark\n",
            "Shark\n",
            "Shark\n"
          ]
        }
      ]
    },
    {
      "cell_type": "markdown",
      "source": [
        "Output Variable"
      ],
      "metadata": {
        "id": "QkJRWFNKAqJs"
      }
    },
    {
      "cell_type": "code",
      "source": [
        "q= \"is enjoying\"\n",
        "print(\"Python programming\"+\" \" + q)"
      ],
      "metadata": {
        "colab": {
          "base_uri": "https://localhost:8080/"
        },
        "id": "IlbEtz08AtUC",
        "outputId": "b4698e67-f821-41b2-ac03-c3ff7e38a39e"
      },
      "execution_count": 46,
      "outputs": [
        {
          "output_type": "stream",
          "name": "stdout",
          "text": [
            "Python programming is enjoying\n"
          ]
        }
      ]
    },
    {
      "cell_type": "markdown",
      "source": [
        "Casting and Type() Function"
      ],
      "metadata": {
        "id": "04PdpljL4bmJ"
      }
    },
    {
      "cell_type": "code",
      "source": [
        "k = int(6)     #integer\n",
        "h = float(6)   #decimal/fractional\n",
        "\n",
        "print(k)\n",
        "print(h)\n",
        "\n",
        "print(type(k))\n",
        "print(type(h))"
      ],
      "metadata": {
        "colab": {
          "base_uri": "https://localhost:8080/"
        },
        "id": "A6YO9aa44sQC",
        "outputId": "3752581d-93c6-4734-e9fb-eee28d197afa"
      },
      "execution_count": 25,
      "outputs": [
        {
          "output_type": "stream",
          "name": "stdout",
          "text": [
            "6\n",
            "6.0\n",
            "<class 'int'>\n",
            "<class 'float'>\n"
          ]
        }
      ]
    },
    {
      "cell_type": "markdown",
      "source": [
        "Double quote or Single quote"
      ],
      "metadata": {
        "id": "2O_suIjt6wXx"
      }
    },
    {
      "cell_type": "code",
      "source": [
        "name1 = \"Krysschell\"\n",
        "name2= 'Anne'\n",
        "\n",
        "print(name1)\n",
        "print(name2)"
      ],
      "metadata": {
        "colab": {
          "base_uri": "https://localhost:8080/"
        },
        "id": "6IGE1uzu7lAW",
        "outputId": "16e00571-8c92-452e-cf79-5a03ffc090a6"
      },
      "execution_count": 32,
      "outputs": [
        {
          "output_type": "stream",
          "name": "stdout",
          "text": [
            "Krysschell\n",
            "Anne\n"
          ]
        }
      ]
    },
    {
      "cell_type": "markdown",
      "source": [
        "Case Sensitive"
      ],
      "metadata": {
        "id": "y6-bRy9Z9FIR"
      }
    },
    {
      "cell_type": "code",
      "source": [
        "b = \"hanna\"\n",
        "print(b)"
      ],
      "metadata": {
        "colab": {
          "base_uri": "https://localhost:8080/"
        },
        "id": "t2OyyOLp9HAq",
        "outputId": "a1badf5e-b3ea-4680-96bc-a37764d69ed6"
      },
      "execution_count": 35,
      "outputs": [
        {
          "output_type": "stream",
          "name": "stdout",
          "text": [
            "hanna\n"
          ]
        }
      ]
    }
  ]
}